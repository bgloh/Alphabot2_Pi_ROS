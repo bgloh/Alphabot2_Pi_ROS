{
 "cells": [
  {
   "cell_type": "code",
   "execution_count": 8,
   "id": "8671c2a2",
   "metadata": {
    "scrolled": true
   },
   "outputs": [
    {
     "name": "stdout",
     "output_type": "stream",
     "text": [
      " C 드라이브의 볼륨에는 이름이 없습니다.\n",
      " 볼륨 일련 번호: F8DB-A07C\n",
      "\n",
      " C:\\Users\\User\\Desktop\\YOLO5 디렉터리\n",
      "\n",
      "2022-05-29  오전 02:51    <DIR>          .\n",
      "2022-05-29  오전 02:50    <DIR>          ..\n",
      "2022-05-29  오전 02:47    <DIR>          .ipynb_checkpoints\n",
      "2022-05-29  오전 02:50    <DIR>          capstone\n",
      "2022-05-28  오후 10:54               321 custom_data.yaml\n",
      "2022-05-29  오전 01:39    <DIR>          TEST\n",
      "2022-05-29  오전 02:51             2,163 YOLOv5.ipynb\n",
      "               2개 파일               2,484 바이트\n",
      "               5개 디렉터리  208,112,414,720 바이트 남음\n"
     ]
    }
   ],
   "source": [
    "!dir"
   ]
  },
  {
   "cell_type": "code",
   "execution_count": 23,
   "id": "20fea811",
   "metadata": {},
   "outputs": [
    {
     "name": "stdout",
     "output_type": "stream",
     "text": [
      "[WinError 2] 지정된 파일을 찾을 수 없습니다: '../capstone/'\n",
      "C:\\Users\\User\\Desktop\\YOLO5\n"
     ]
    }
   ],
   "source": [
    "cd ../capstone/"
   ]
  },
  {
   "cell_type": "code",
   "execution_count": null,
   "id": "3b5c1fad",
   "metadata": {},
   "outputs": [],
   "source": []
  },
  {
   "cell_type": "code",
   "execution_count": null,
   "id": "892cd8dd",
   "metadata": {},
   "outputs": [],
   "source": [
    "%cd yolov5\n",
    "%pip install -qr requirements.txt  # install"
   ]
  },
  {
   "cell_type": "code",
   "execution_count": null,
   "id": "c7c5c53e",
   "metadata": {},
   "outputs": [],
   "source": [
    "import torch\n",
    "import utils\n",
    "display = utils.notebook_init()  # checks"
   ]
  }
 ],
 "metadata": {
  "kernelspec": {
   "display_name": "Python 3 (ipykernel)",
   "language": "python",
   "name": "python3"
  },
  "language_info": {
   "codemirror_mode": {
    "name": "ipython",
    "version": 3
   },
   "file_extension": ".py",
   "mimetype": "text/x-python",
   "name": "python",
   "nbconvert_exporter": "python",
   "pygments_lexer": "ipython3",
   "version": "3.7.0"
  }
 },
 "nbformat": 4,
 "nbformat_minor": 5
}
